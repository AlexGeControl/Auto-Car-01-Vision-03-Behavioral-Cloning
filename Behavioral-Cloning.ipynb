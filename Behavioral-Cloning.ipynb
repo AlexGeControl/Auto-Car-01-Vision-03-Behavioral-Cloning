{
 "cells": [
  {
   "cell_type": "markdown",
   "metadata": {},
   "source": [
    "## Set Up Session"
   ]
  },
  {
   "cell_type": "code",
   "execution_count": 1,
   "metadata": {},
   "outputs": [
    {
     "name": "stderr",
     "output_type": "stream",
     "text": [
      "Using TensorFlow backend.\n"
     ]
    }
   ],
   "source": [
    "# Configuration:\n",
    "from behavioral_cloning.utils.conf import Conf\n",
    "# ETL:\n",
    "import numpy as np\n",
    "from behavioral_cloning.utils.dataset import Dataset\n",
    "from sklearn.model_selection import train_test_split\n",
    "# Preprocessing:\n",
    "from behavioral_cloning.preprocessors import Preprocessor\n",
    "# Modeling:\n",
    "from keras.models import Sequential\n",
    "from keras.layers.core import Lambda, Dropout, Flatten, Dense \n",
    "from keras.layers.convolutional import Cropping2D, Convolution2D, MaxPooling2D\n",
    "from keras.optimizers import Adam\n",
    "from keras.callbacks import EarlyStopping\n",
    "# Visualization:\n",
    "import matplotlib.pyplot as plt\n",
    "%matplotlib inline"
   ]
  },
  {
   "cell_type": "markdown",
   "metadata": {},
   "source": [
    "## Load Configuration"
   ]
  },
  {
   "cell_type": "code",
   "execution_count": 2,
   "metadata": {},
   "outputs": [],
   "source": [
    "conf = Conf('conf/conf.json')"
   ]
  },
  {
   "cell_type": "markdown",
   "metadata": {},
   "source": [
    "## Training/Testing Split"
   ]
  },
  {
   "cell_type": "markdown",
   "metadata": {},
   "source": [
    "#### Load Dataset"
   ]
  },
  {
   "cell_type": "code",
   "execution_count": 3,
   "metadata": {
    "collapsed": true
   },
   "outputs": [],
   "source": [
    "X, y = [], []\n",
    "\n",
    "preprocessor = Preprocessor(\n",
    "    output_size=tuple(conf.preprocessor_output_size)\n",
    ")\n",
    "for dataset_dir in conf.datasets:\n",
    "    dataset = Dataset(\n",
    "        dataset_dir,\n",
    "        steering_correction = 0.25\n",
    "    )\n",
    "    for (images, steerings) in iter(dataset):\n",
    "        # Crop & resize to reduce memory footprint:\n",
    "        processed = preprocessor.transform(images)\n",
    "        X.append(processed)\n",
    "        y.append(steerings)\n",
    "\n",
    "X = np.vstack(X)\n",
    "y = np.hstack(y)"
   ]
  },
  {
   "cell_type": "markdown",
   "metadata": {},
   "source": [
    "#### Split Training & Testing Subsets"
   ]
  },
  {
   "cell_type": "code",
   "execution_count": 5,
   "metadata": {
    "collapsed": true
   },
   "outputs": [],
   "source": [
    "X_train, X_test, y_train, y_test = train_test_split(\n",
    "    X, y, \n",
    "    test_size=0.05, \n",
    "    random_state=42\n",
    ")"
   ]
  },
  {
   "cell_type": "markdown",
   "metadata": {},
   "source": [
    "## Build Network"
   ]
  },
  {
   "cell_type": "markdown",
   "metadata": {},
   "source": [
    "#### Configurations"
   ]
  },
  {
   "cell_type": "code",
   "execution_count": 6,
   "metadata": {
    "collapsed": true
   },
   "outputs": [],
   "source": [
    "INPUT_SHAPE = tuple(conf.model_input_size)\n",
    "N_OUTPUT = 1\n",
    "\n",
    "BATCH_SIZE = 512\n",
    "N_EPOCHES = 32"
   ]
  },
  {
   "cell_type": "markdown",
   "metadata": {},
   "source": [
    "#### Model Architecture"
   ]
  },
  {
   "cell_type": "code",
   "execution_count": 7,
   "metadata": {
    "collapsed": true
   },
   "outputs": [],
   "source": [
    "def resize(X):\n",
    "    # Set up session:\n",
    "    from keras.backend import tf as ktf\n",
    "    \n",
    "    return ktf.image.resize_images(X, (32, 64))\n",
    "\n",
    "def standardize(X):\n",
    "    # Set up session:\n",
    "    from keras.backend import tf as ktf\n",
    "    \n",
    "    return ktf.map_fn(\n",
    "        lambda x: ktf.image.per_image_standardization(x),\n",
    "        X\n",
    "    )"
   ]
  },
  {
   "cell_type": "code",
   "execution_count": 8,
   "metadata": {
    "collapsed": true
   },
   "outputs": [],
   "source": [
    "model = Sequential()\n",
    "\n",
    "# Preprocessing:\n",
    "model.add(\n",
    "    Lambda(\n",
    "        standardize,\n",
    "        input_shape = INPUT_SHAPE\n",
    "    )\n",
    ")\n",
    "# Convs:\n",
    "model.add(\n",
    "    Convolution2D(\n",
    "        32, 3, 3, border_mode='same',\n",
    "        activation='relu',\n",
    "        init='he_normal'\n",
    "    )\n",
    ")\n",
    "model.add(\n",
    "    Convolution2D(\n",
    "        48, 3, 3, border_mode='same', \n",
    "        activation='relu',\n",
    "        init='he_normal'\n",
    "    )\n",
    ")\n",
    "model.add(\n",
    "    MaxPooling2D(pool_size=(2, 2))\n",
    ")\n",
    "model.add(\n",
    "    Convolution2D(\n",
    "        64, 3, 3, border_mode='same', \n",
    "        activation='relu',\n",
    "        init='he_normal'\n",
    "    )\n",
    ")\n",
    "model.add(\n",
    "    MaxPooling2D(pool_size=(2, 2))\n",
    ")\n",
    "model.add(\n",
    "    Dropout(0.25)\n",
    ")\n",
    "# Flatten:\n",
    "model.add(\n",
    "    Flatten()\n",
    ")\n",
    "# Fully connected:\n",
    "model.add(\n",
    "    Dense(\n",
    "        128, \n",
    "        activation='relu',\n",
    "        init='he_normal'\n",
    "    )\n",
    ")\n",
    "model.add(\n",
    "    Dense(\n",
    "        64, \n",
    "        activation='relu',\n",
    "        init='he_normal'\n",
    "    )\n",
    ")\n",
    "model.add(\n",
    "    Dropout(0.50)\n",
    ")\n",
    "# Output:\n",
    "model.add(\n",
    "    Dense(\n",
    "        N_OUTPUT, \n",
    "        activation='linear'\n",
    "    )\n",
    ")\n",
    "\n",
    "model.compile(\n",
    "    loss='mean_squared_error',\n",
    "    optimizer=Adam(lr=1e-3),\n",
    "    metrics=['mae']\n",
    ")"
   ]
  },
  {
   "cell_type": "markdown",
   "metadata": {},
   "source": [
    "#### Optimization"
   ]
  },
  {
   "cell_type": "code",
   "execution_count": 9,
   "metadata": {
    "collapsed": true
   },
   "outputs": [],
   "source": [
    "def calculate_sample_weights(steering, weight_unit = 0.1, ratio = 0.5):\n",
    "    \"\"\" Calculate sample weights based on steering angle\n",
    "    \"\"\"\n",
    "    num_effective = (np.absolute(y_train) + weight_unit) / weight_unit\n",
    "    \n",
    "    # Try to strike a balance between straight & curve lane performance:\n",
    "    weights = (1.0 - ratio) * num_effective + ratio * (num_effective**2)\n",
    "    \n",
    "    return weights"
   ]
  },
  {
   "cell_type": "code",
   "execution_count": 10,
   "metadata": {
    "collapsed": true
   },
   "outputs": [],
   "source": [
    "callbacks = [\n",
    "    EarlyStopping(\n",
    "        monitor='val_loss',\n",
    "        patience=2,verbose=0\n",
    "    )\n",
    "]"
   ]
  },
  {
   "cell_type": "code",
   "execution_count": 11,
   "metadata": {
    "scrolled": true
   },
   "outputs": [
    {
     "name": "stdout",
     "output_type": "stream",
     "text": [
      "Train on 41224 samples, validate on 4581 samples\n",
      "Epoch 1/32\n",
      "41224/41224 [==============================] - 33s - loss: 15.7840 - mean_absolute_error: 0.4748 - val_loss: 0.3810 - val_mean_absolute_error: 0.1258\n",
      "Epoch 2/32\n",
      "41224/41224 [==============================] - 29s - loss: 0.4160 - mean_absolute_error: 0.1472 - val_loss: 0.2874 - val_mean_absolute_error: 0.1127\n",
      "Epoch 3/32\n",
      "41224/41224 [==============================] - 28s - loss: 0.3339 - mean_absolute_error: 0.1361 - val_loss: 0.2631 - val_mean_absolute_error: 0.1055\n",
      "Epoch 4/32\n",
      "41224/41224 [==============================] - 29s - loss: 0.2970 - mean_absolute_error: 0.1294 - val_loss: 0.2389 - val_mean_absolute_error: 0.1001\n",
      "Epoch 5/32\n",
      "41224/41224 [==============================] - 29s - loss: 0.2681 - mean_absolute_error: 0.1250 - val_loss: 0.2168 - val_mean_absolute_error: 0.1012\n",
      "Epoch 6/32\n",
      "41224/41224 [==============================] - 29s - loss: 0.2495 - mean_absolute_error: 0.1213 - val_loss: 0.2081 - val_mean_absolute_error: 0.0989\n",
      "Epoch 7/32\n",
      "41224/41224 [==============================] - 29s - loss: 0.2249 - mean_absolute_error: 0.1181 - val_loss: 0.1986 - val_mean_absolute_error: 0.0974\n",
      "Epoch 8/32\n",
      "41224/41224 [==============================] - 29s - loss: 0.2236 - mean_absolute_error: 0.1170 - val_loss: 0.1993 - val_mean_absolute_error: 0.0984\n",
      "Epoch 9/32\n",
      "41224/41224 [==============================] - 29s - loss: 0.2070 - mean_absolute_error: 0.1137 - val_loss: 0.2044 - val_mean_absolute_error: 0.0962\n",
      "Epoch 10/32\n",
      "41224/41224 [==============================] - 28s - loss: 0.2033 - mean_absolute_error: 0.1127 - val_loss: 0.1856 - val_mean_absolute_error: 0.0952\n",
      "Epoch 11/32\n",
      "41224/41224 [==============================] - 29s - loss: 0.1983 - mean_absolute_error: 0.1112 - val_loss: 0.1964 - val_mean_absolute_error: 0.0928\n",
      "Epoch 12/32\n",
      "41224/41224 [==============================] - 29s - loss: 0.1949 - mean_absolute_error: 0.1107 - val_loss: 0.1811 - val_mean_absolute_error: 0.0926\n",
      "Epoch 13/32\n",
      "41224/41224 [==============================] - 28s - loss: 0.1834 - mean_absolute_error: 0.1084 - val_loss: 0.1960 - val_mean_absolute_error: 0.0937\n",
      "Epoch 14/32\n",
      "41224/41224 [==============================] - 29s - loss: 0.1829 - mean_absolute_error: 0.1085 - val_loss: 0.2005 - val_mean_absolute_error: 0.0900\n",
      "Epoch 15/32\n",
      "41224/41224 [==============================] - 28s - loss: 0.1723 - mean_absolute_error: 0.1075 - val_loss: 0.1832 - val_mean_absolute_error: 0.0963\n"
     ]
    },
    {
     "data": {
      "text/plain": [
       "<keras.callbacks.History at 0x7fa62bafb0b8>"
      ]
     },
     "execution_count": 11,
     "metadata": {},
     "output_type": "execute_result"
    }
   ],
   "source": [
    "model.fit(\n",
    "    X_train, y_train,\n",
    "    sample_weight = calculate_sample_weights(y_train, ratio = 0.6),\n",
    "    batch_size = BATCH_SIZE,\n",
    "    nb_epoch = N_EPOCHES,\n",
    "    verbose = 1,\n",
    "    shuffle=True, validation_split=0.10, callbacks=callbacks\n",
    ")"
   ]
  },
  {
   "cell_type": "markdown",
   "metadata": {},
   "source": [
    "#### Evaluation"
   ]
  },
  {
   "cell_type": "code",
   "execution_count": 12,
   "metadata": {},
   "outputs": [
    {
     "name": "stdout",
     "output_type": "stream",
     "text": [
      "Test loss: 0.0167616111068\n",
      "Test mae: 0.0964774908981\n"
     ]
    }
   ],
   "source": [
    "score = model.evaluate(X_test, y_test, verbose=0)\n",
    "\n",
    "print('Test loss:', score[0])\n",
    "print('Test mae:', score[1])"
   ]
  },
  {
   "cell_type": "markdown",
   "metadata": {},
   "source": [
    "#### Save for Deployment"
   ]
  },
  {
   "cell_type": "code",
   "execution_count": 13,
   "metadata": {
    "collapsed": true
   },
   "outputs": [],
   "source": [
    "model.save('model.h5')"
   ]
  }
 ],
 "metadata": {
  "kernelspec": {
   "display_name": "Python 3",
   "language": "python",
   "name": "python3"
  },
  "language_info": {
   "codemirror_mode": {
    "name": "ipython",
    "version": 3
   },
   "file_extension": ".py",
   "mimetype": "text/x-python",
   "name": "python",
   "nbconvert_exporter": "python",
   "pygments_lexer": "ipython3",
   "version": "3.5.2"
  },
  "widgets": {
   "state": {},
   "version": "1.1.2"
  }
 },
 "nbformat": 4,
 "nbformat_minor": 2
}
