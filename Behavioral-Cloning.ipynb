{
 "cells": [
  {
   "cell_type": "markdown",
   "metadata": {},
   "source": [
    "## Set Up Session"
   ]
  },
  {
   "cell_type": "code",
   "execution_count": null,
   "metadata": {},
   "outputs": [],
   "source": [
    "# Configuration:\n",
    "from behavioral_cloning.utils.conf import Conf\n",
    "# ETL:\n",
    "import numpy as np\n",
    "from behavioral_cloning.utils.dataset import Dataset\n",
    "from sklearn.model_selection import train_test_split\n",
    "# Preprocessing:\n",
    "from behavioral_cloning.preprocessors import Preprocessor\n",
    "# Modeling:\n",
    "from keras.models import Sequential\n",
    "from keras.layers.core import Lambda, Dropout, Flatten, Dense \n",
    "from keras.layers.convolutional import Cropping2D, Convolution2D, MaxPooling2D\n",
    "from keras.optimizers import Adam\n",
    "from keras.callbacks import EarlyStopping\n",
    "# Visualization:\n",
    "import matplotlib.pyplot as plt\n",
    "%matplotlib inline"
   ]
  },
  {
   "cell_type": "markdown",
   "metadata": {},
   "source": [
    "## Load Configuration"
   ]
  },
  {
   "cell_type": "code",
   "execution_count": null,
   "metadata": {
    "collapsed": true
   },
   "outputs": [],
   "source": [
    "conf = Conf('conf/conf.json')"
   ]
  },
  {
   "cell_type": "markdown",
   "metadata": {},
   "source": [
    "## Training/Testing Split"
   ]
  },
  {
   "cell_type": "markdown",
   "metadata": {},
   "source": [
    "#### Load Dataset"
   ]
  },
  {
   "cell_type": "code",
   "execution_count": null,
   "metadata": {},
   "outputs": [],
   "source": [
    "X, y = [], []\n",
    "\n",
    "preprocessor = Preprocessor()\n",
    "for dataset_dir in conf.datasets:\n",
    "    dataset = Dataset(\n",
    "        dataset_dir,\n",
    "        steering_correction = 0.16\n",
    "    )\n",
    "    for (images, steerings) in iter(dataset):\n",
    "        # Crop & resize to reduce memory footprint:\n",
    "        processed = preprocessor.transform(images)\n",
    "        X.append(processed)\n",
    "        y.append(steerings)\n",
    "\n",
    "X = np.vstack(X)\n",
    "y = np.hstack(y)"
   ]
  },
  {
   "cell_type": "markdown",
   "metadata": {},
   "source": [
    "#### Save for Future Access"
   ]
  },
  {
   "cell_type": "markdown",
   "metadata": {},
   "source": [
    "#### Split Training & Testing Subsets"
   ]
  },
  {
   "cell_type": "code",
   "execution_count": null,
   "metadata": {},
   "outputs": [],
   "source": [
    "X_train, X_test, y_train, y_test = train_test_split(\n",
    "    X, y, \n",
    "    test_size=0.20, \n",
    "    random_state=42\n",
    ")"
   ]
  },
  {
   "cell_type": "markdown",
   "metadata": {},
   "source": [
    "## Build Network"
   ]
  },
  {
   "cell_type": "markdown",
   "metadata": {},
   "source": [
    "#### Configurations"
   ]
  },
  {
   "cell_type": "code",
   "execution_count": null,
   "metadata": {
    "collapsed": true
   },
   "outputs": [],
   "source": [
    "INPUT_SHAPE = (18, 64, 3)\n",
    "N_OUTPUT = 1\n",
    "\n",
    "BATCH_SIZE = 256\n",
    "N_EPOCHES = 256"
   ]
  },
  {
   "cell_type": "markdown",
   "metadata": {},
   "source": [
    "#### Model Architecture"
   ]
  },
  {
   "cell_type": "code",
   "execution_count": null,
   "metadata": {
    "collapsed": true
   },
   "outputs": [],
   "source": [
    "def resize(X):\n",
    "    # Set up session:\n",
    "    from keras.backend import tf as ktf\n",
    "    \n",
    "    return ktf.image.resize_images(X, (32, 64))\n",
    "\n",
    "def standardize(X):\n",
    "    # Set up session:\n",
    "    from keras.backend import tf as ktf\n",
    "    \n",
    "    return ktf.map_fn(\n",
    "        lambda x: ktf.image.per_image_standardization(x),\n",
    "        X\n",
    "    )"
   ]
  },
  {
   "cell_type": "code",
   "execution_count": null,
   "metadata": {},
   "outputs": [],
   "source": [
    "model = Sequential()\n",
    "\n",
    "# Preprocessing:\n",
    "model.add(\n",
    "    Lambda(\n",
    "        standardize,\n",
    "        input_shape = INPUT_SHAPE\n",
    "    )\n",
    ")\n",
    "# Convs:\n",
    "model.add(\n",
    "    Convolution2D(\n",
    "        32, 3, 3, border_mode='same',\n",
    "        activation='relu'\n",
    "    )\n",
    ")\n",
    "model.add(\n",
    "    Convolution2D(\n",
    "        64, 3, 3, border_mode='same', \n",
    "        activation='relu'\n",
    "    )\n",
    ")\n",
    "model.add(\n",
    "    MaxPooling2D(pool_size=(2, 2))\n",
    ")\n",
    "model.add(\n",
    "    Convolution2D(\n",
    "        128, 3, 3, border_mode='same', \n",
    "        activation='relu'\n",
    "    )\n",
    ")\n",
    "model.add(\n",
    "    MaxPooling2D(pool_size=(2, 2))\n",
    ")\n",
    "model.add(\n",
    "    Dropout(0.25)\n",
    ")\n",
    "# Flatten:\n",
    "model.add(\n",
    "    Flatten()\n",
    ")\n",
    "# Fully connected:\n",
    "model.add(\n",
    "    Dense(\n",
    "        512, \n",
    "        activation='relu'\n",
    "    )\n",
    ")\n",
    "model.add(\n",
    "    Dense(\n",
    "        256, \n",
    "        activation='relu'\n",
    "    )\n",
    ")\n",
    "model.add(\n",
    "    Dense(\n",
    "        128, \n",
    "        activation='relu'\n",
    "    )\n",
    ")\n",
    "model.add(\n",
    "    Dropout(0.50)\n",
    ")\n",
    "# Output:\n",
    "model.add(\n",
    "    Dense(\n",
    "        N_OUTPUT, \n",
    "        activation='linear'\n",
    "    )\n",
    ")\n",
    "\n",
    "model.compile(\n",
    "    loss='mean_squared_error',\n",
    "    optimizer=Adam(lr=5e-4),\n",
    "    metrics=['mae']\n",
    ")"
   ]
  },
  {
   "cell_type": "markdown",
   "metadata": {},
   "source": [
    "#### Optimization"
   ]
  },
  {
   "cell_type": "code",
   "execution_count": null,
   "metadata": {},
   "outputs": [],
   "source": [
    "callbacks = [\n",
    "    EarlyStopping(\n",
    "        monitor='val_loss',\n",
    "        patience=8,verbose=0\n",
    "    )\n",
    "]"
   ]
  },
  {
   "cell_type": "code",
   "execution_count": null,
   "metadata": {},
   "outputs": [],
   "source": [
    "model.fit(\n",
    "    X_train, y_train,\n",
    "    batch_size = BATCH_SIZE,\n",
    "    nb_epoch = N_EPOCHES,\n",
    "    verbose = 1,\n",
    "    shuffle=True, validation_split=0.1, callbacks=callbacks\n",
    ")"
   ]
  },
  {
   "cell_type": "markdown",
   "metadata": {},
   "source": [
    "#### Evaluation"
   ]
  },
  {
   "cell_type": "code",
   "execution_count": null,
   "metadata": {},
   "outputs": [],
   "source": [
    "score = model.evaluate(X_test, y_test, verbose=0)\n",
    "\n",
    "print('Test loss:', score[0])\n",
    "print('Test mae:', score[1])"
   ]
  },
  {
   "cell_type": "markdown",
   "metadata": {},
   "source": [
    "#### Save for Deployment"
   ]
  },
  {
   "cell_type": "code",
   "execution_count": null,
   "metadata": {
    "collapsed": true
   },
   "outputs": [],
   "source": [
    "model.save('model.h5')"
   ]
  }
 ],
 "metadata": {
  "kernelspec": {
   "display_name": "Python 3",
   "language": "python",
   "name": "python3"
  },
  "language_info": {
   "codemirror_mode": {
    "name": "ipython",
    "version": 3
   },
   "file_extension": ".py",
   "mimetype": "text/x-python",
   "name": "python",
   "nbconvert_exporter": "python",
   "pygments_lexer": "ipython3",
   "version": "3.5.2"
  },
  "widgets": {
   "state": {},
   "version": "1.1.2"
  }
 },
 "nbformat": 4,
 "nbformat_minor": 2
}
